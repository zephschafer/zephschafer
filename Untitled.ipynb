{
 "cells": [
  {
   "cell_type": "code",
   "execution_count": 2,
   "metadata": {},
   "outputs": [],
   "source": [
    "import datetime\n",
    "from google.cloud import bigquery\n",
    "\n",
    "client = bigquery.Client()\n",
    "\n",
    "dataset_name = 'quipu_dbt_zeph_dev'\n",
    "project_name = 'zs-econ-data'"
   ]
  },
  {
   "cell_type": "markdown",
   "metadata": {},
   "source": [
    "### Table 1 Yesterday Permits"
   ]
  },
  {
   "cell_type": "code",
   "execution_count": 333,
   "metadata": {},
   "outputs": [],
   "source": [
    "rolling_365_permits = client.query(f'''\n",
    "    SELECT \n",
    "        date\n",
    "        , AVG(total_sqft_issued_amt) OVER (ORDER BY date DESC ROWS BETWEEN CURRENT ROW AND 364 FOLLOWING) AS sqft_per_permit\n",
    "        , AVG(total_new_units_issued_amt) OVER (ORDER BY date DESC ROWS BETWEEN CURRENT ROW AND 364 FOLLOWING) AS total_new_units_issued_amt\n",
    "        , AVG(count_permits_issued) OVER (ORDER BY date DESC ROWS BETWEEN CURRENT ROW AND 364 FOLLOWING) AS count_permits_issued\n",
    "    FROM `{project_name}.{dataset_name}.permits_by_date`\n",
    "    WHERE date > '2010-01-01'\n",
    "    ORDER BY date ASC\n",
    "''').result().to_dataframe()"
   ]
  },
  {
   "cell_type": "code",
   "execution_count": 50,
   "metadata": {},
   "outputs": [
    {
     "ename": "NameError",
     "evalue": "name 'rolling_365_permits' is not defined",
     "output_type": "error",
     "traceback": [
      "\u001b[0;31m---------------------------------------------------------------------------\u001b[0m",
      "\u001b[0;31mNameError\u001b[0m                                 Traceback (most recent call last)",
      "\u001b[0;32m<ipython-input-50-61e33c006b15>\u001b[0m in \u001b[0;36m<module>\u001b[0;34m\u001b[0m\n\u001b[0;32m----> 1\u001b[0;31m \u001b[0mrolling_365_permits\u001b[0m\u001b[0;34m[\u001b[0m\u001b[0;36m100\u001b[0m\u001b[0;34m:\u001b[0m\u001b[0;34m]\u001b[0m\u001b[0;34m.\u001b[0m\u001b[0mset_index\u001b[0m\u001b[0;34m(\u001b[0m\u001b[0;34m'date'\u001b[0m\u001b[0;34m)\u001b[0m\u001b[0;34m.\u001b[0m\u001b[0mto_csv\u001b[0m\u001b[0;34m(\u001b[0m\u001b[0;34m'data/issuances_rolling_365.csv'\u001b[0m\u001b[0;34m)\u001b[0m\u001b[0;34m\u001b[0m\u001b[0;34m\u001b[0m\u001b[0m\n\u001b[0m",
      "\u001b[0;31mNameError\u001b[0m: name 'rolling_365_permits' is not defined"
     ]
    }
   ],
   "source": [
    "rolling_365_permits[100:].set_index('date').to_csv('data/issuances_rolling_365.csv')"
   ]
  },
  {
   "cell_type": "markdown",
   "metadata": {},
   "source": [
    "### Yesterday Permits Tabke"
   ]
  },
  {
   "cell_type": "code",
   "execution_count": 301,
   "metadata": {},
   "outputs": [],
   "source": [
    "yesterday_permits_review = client.query(f'''\n",
    "    SELECT\n",
    "        structure_type\n",
    "        , work_type\n",
    "        , function_type\n",
    "        , total_sqft_amt\n",
    "        , description\n",
    "        , stories_amt\n",
    "        , new_units_amt\n",
    "        , value\n",
    "    FROM `{project_name}.{dataset_name}.permits_cleaned`\n",
    "    WHERE under_review_at BETWEEN '2022-02-25' AND '2022-02-28'\n",
    "''').result().to_dataframe()\n",
    "yesterday_permits_issued = client.query(f'''\n",
    "    SELECT\n",
    "        structure_type\n",
    "        , work_type\n",
    "        , function_type\n",
    "        , total_sqft_amt\n",
    "        , description\n",
    "        , stories_amt\n",
    "        , new_units_amt\n",
    "        , value\n",
    "    FROM `{project_name}.{dataset_name}.permits_cleaned`\n",
    "    WHERE issued_at BETWEEN '2022-02-25' AND '2022-02-28'\n",
    "''').result().to_dataframe()"
   ]
  },
  {
   "cell_type": "code",
   "execution_count": 302,
   "metadata": {},
   "outputs": [],
   "source": [
    "yesterday_permits_review.to_csv(f'data/table_1_reviewed.csv')\n",
    "yesterday_permits_issued.to_csv(f'data/table_1_issued.csv')"
   ]
  },
  {
   "cell_type": "markdown",
   "metadata": {},
   "source": [
    "### Avg Days to Issue"
   ]
  },
  {
   "cell_type": "code",
   "execution_count": 209,
   "metadata": {},
   "outputs": [],
   "source": [
    "# days_to_issue = client.query(f'''\n",
    "#     SELECT \n",
    "#         date\n",
    "#         , days_to_issue_sqft\n",
    "#         , days_to_issue_new_units\n",
    "#         , avg_days_to_issue\n",
    "#     FROM `{project_name}.{dataset_name}.permits_by_date`\n",
    "#     WHERE date > '2010-01-01'\n",
    "#     ORDER BY date ASC\n",
    "# ''').result().to_dataframe()"
   ]
  },
  {
   "cell_type": "code",
   "execution_count": 53,
   "metadata": {},
   "outputs": [],
   "source": [
    "# dfs = {}\n",
    "# for field in ['days_to_issue_sqft', 'days_to_issue_new_units', 'avg_days_to_issue']:\n",
    "#     dfs[field] = days_to_issue[['date',field]]\\\n",
    "#                     .set_index('date').ffill().rolling(365).mean()[365:]\\\n",
    "#                     .rename(columns={field:'value'})\n",
    "#     dfs[field].to_csv(f'data/graph_2_{field}.csv')\n",
    "#     dfs[field].plot(figsize=(12,3))"
   ]
  },
  {
   "cell_type": "markdown",
   "metadata": {},
   "source": [
    "### Permits Backlog"
   ]
  },
  {
   "cell_type": "code",
   "execution_count": 54,
   "metadata": {},
   "outputs": [],
   "source": [
    "# backlog = client.query(f'''\n",
    "#     SELECT \n",
    "#         date\n",
    "#         , AVG(total_sqft_waiting_approval) OVER (ORDER BY date DESC ROWS BETWEEN CURRENT ROW AND 364 FOLLOWING) AS sqft_backlog_rolling_year\n",
    "#         , AVG(total_sqft_issued_amt) OVER (ORDER BY date DESC ROWS BETWEEN CURRENT ROW AND 364 FOLLOWING) AS sqft_issued_rolling_year\n",
    "#         , AVG(total_sqft_review_amt) OVER (ORDER BY date DESC ROWS BETWEEN CURRENT ROW AND 364 FOLLOWING) AS sqft_submitted_rolling_year\n",
    "#         , AVG(total_new_units_waiting_approval) OVER (ORDER BY date DESC ROWS BETWEEN CURRENT ROW AND 364 FOLLOWING) AS new_units_backlog_rolling_year\n",
    "#         , AVG(total_new_units_issued_amt) OVER (ORDER BY date DESC ROWS BETWEEN CURRENT ROW AND 364 FOLLOWING) AS new_units_issued_rolling_year\n",
    "#         , AVG(total_new_units_review_amt) OVER (ORDER BY date DESC ROWS BETWEEN CURRENT ROW AND 364 FOLLOWING) AS new_units_submitted_rolling_year\n",
    "#     FROM `{project_name}.{dataset_name}.permits_by_date`\n",
    "#     WHERE date > '2010-01-01'\n",
    "#     ORDER BY date ASC\n",
    "# ''').result().to_dataframe()\n",
    "# backlog['sqft_backlog_rolling_year_pct'] = backlog.sqft_backlog_rolling_year/backlog.sqft_issued_rolling_year\n",
    "# backlog['units_backlog_rolling_year_pct'] = backlog.sqft_backlog_rolling_year/backlog.sqft_issued_rolling_year"
   ]
  },
  {
   "cell_type": "code",
   "execution_count": 51,
   "metadata": {},
   "outputs": [],
   "source": [
    "# issues_and_submissions_sqft = backlog[['date','sqft_issued_rolling_year','sqft_submitted_rolling_year']][365:]\\\n",
    "#     .set_index('date')\n",
    "# issues_and_submissions_sqft.plot(figsize=(12,3))\n",
    "# # issues_and_submissions_sqft.to_csv('data/graph_2_issues_and_submissions_sqft.csv')\n",
    "\n",
    "# sqft_backlog_num = backlog[['date','sqft_backlog_rolling_year']][365:].set_index('date')\n",
    "# sqft_backlog_num.plot(figsize=(12,3))\n",
    "# # sqft_backlog_num.to_csv('data/graph_2_sqft_backlog_num.csv')\n",
    "\n",
    "# sqft_backlog_pct = backlog[['date','sqft_backlog_rolling_year_pct']][365:].set_index('date')\n",
    "# sqft_backlog_pct.plot(figsize=(12,3))\n",
    "# # sqft_backlog_pct.to_csv('data/graph_2_sqft_backlog_pct')"
   ]
  },
  {
   "cell_type": "code",
   "execution_count": 52,
   "metadata": {},
   "outputs": [],
   "source": [
    "# issues_and_submissions_units = backlog[['date','new_units_issued_rolling_year','new_units_submitted_rolling_year']][365:]\\\n",
    "#     .set_index('date')\n",
    "# issues_and_submissions_units.plot(figsize=(12,3))\n",
    "# # issues_and_submissions_units.to_csv('data/graph_2_issues_and_submissions_units.csv')\n",
    "\n",
    "# units_backlog_num = backlog[['date','new_units_backlog_rolling_year']][365:].set_index('date')\n",
    "# units_backlog_num.plot(figsize=(12,3))\n",
    "# # units_backlog_num.to_csv('data/graph_2_units_backlog_num.csv')\n",
    "\n",
    "# units_backlog_pct = backlog[['date','units_backlog_rolling_year_pct']][365:].set_index('date')\n",
    "# units_backlog_pct.plot(figsize=(12,3))\n",
    "# # units_backlog_pct.to_csv('data/graph_2_units_backlog_pct')"
   ]
  },
  {
   "cell_type": "markdown",
   "metadata": {},
   "source": [
    "### Issuances By [Type]"
   ]
  },
  {
   "cell_type": "code",
   "execution_count": 42,
   "metadata": {},
   "outputs": [],
   "source": [
    "dfs = {}\n",
    "for permit_type in ['work_type','structure_type','function_type']:\n",
    "    dfs[permit_type] = client.query(f'''\n",
    "        SELECT \n",
    "            date\n",
    "            , {permit_type} AS type\n",
    "            , total_sqft_issued_amt AS value\n",
    "        FROM `{project_name}.{dataset_name}.permits_by_date_and_{permit_type}`\n",
    "        WHERE date > '2010-01-01'\n",
    "            AND {permit_type} IS NOT NULL\n",
    "        ORDER BY date ASC\n",
    "    ''').result().to_dataframe()\n",
    "    dfs[permit_type].pivot(\n",
    "        index='date'\n",
    "        ,columns='type'\n",
    "        ,values='value'\n",
    "    ).fillna(0).rolling(365).mean().reset_index().melt(\n",
    "                                                    id_vars=['date']\n",
    "                                                    , var_name='type'\n",
    "                                                    , value_name='value')\\\n",
    "    .to_csv(f'data/mar6test1_{permit_type}.csv')"
   ]
  },
  {
   "cell_type": "markdown",
   "metadata": {},
   "source": [
    "### HTML Construction"
   ]
  },
  {
   "cell_type": "code",
   "execution_count": 2,
   "metadata": {},
   "outputs": [],
   "source": [
    "date = client.query(\"SELECT DATE(CURRENT_DATE) - 2 AS yesterday\").result().to_dataframe()"
   ]
  },
  {
   "cell_type": "code",
   "execution_count": 3,
   "metadata": {},
   "outputs": [
    {
     "data": {
      "text/plain": [
       "'Friday, Feb 25, 2022'"
      ]
     },
     "execution_count": 3,
     "metadata": {},
     "output_type": "execute_result"
    }
   ],
   "source": [
    "date['yesterday'][0].strftime('%A, %b %d, %Y')"
   ]
  },
  {
   "cell_type": "code",
   "execution_count": 4,
   "metadata": {},
   "outputs": [
    {
     "data": {
      "text/plain": [
       "'Friday'"
      ]
     },
     "execution_count": 4,
     "metadata": {},
     "output_type": "execute_result"
    }
   ],
   "source": [
    "date['yesterday'][0].strftime('%A, %b %d, %Y').split(',')[0]"
   ]
  },
  {
   "cell_type": "code",
   "execution_count": 5,
   "metadata": {},
   "outputs": [],
   "source": [
    "yesterday_permits = client.query(f'''\n",
    "    SELECT \n",
    "        *\n",
    "    FROM `{project_name}.{dataset_name}.permits`\n",
    "    WHERE DATE(issued_at, \"America/Los_Angeles\") = (CURRENT_DATE - 2)\n",
    "''').result().to_dataframe()"
   ]
  },
  {
   "cell_type": "code",
   "execution_count": 7,
   "metadata": {},
   "outputs": [],
   "source": [
    "permits_by_date = client.query(f'''\n",
    "    SELECT \n",
    "        *\n",
    "        , EXTRACT(DAYOFWEEK FROM date) AS day_of_week\n",
    "        , EXTRACT(DAYOFWEEK FROM date) = EXTRACT(DAYOFWEEK FROM (CURRENT_DATE - 2)) AS is_same_day_of_week_as_yesterday\n",
    "        , (DATE(date) = (CURRENT_DATE - 2)) AS is_yesterday\n",
    "    FROM `{project_name}.{dataset_name}.permits_by_date`\n",
    "    WHERE date BETWEEN '2022-01-01' AND CURRENT_DATE\n",
    "''').result().to_dataframe()"
   ]
  },
  {
   "cell_type": "markdown",
   "metadata": {},
   "source": [
    " "
   ]
  },
  {
   "cell_type": "code",
   "execution_count": 9,
   "metadata": {},
   "outputs": [],
   "source": [
    "all_days_permits_sqft = permits_by_date[permits_by_date.is_yesterday==False]['total_sqft_issued_amt'].mean()\n",
    "yesterday_permits_sqft = permits_by_date[permits_by_date.is_yesterday]['total_sqft_issued_amt'].values[0]\n",
    "same_day_as_yesterday_permits_sqft = permits_by_date[\n",
    "    (permits_by_date.is_same_day_of_week_as_yesterday==True) & (permits_by_date.is_yesterday==False)\n",
    "]['total_sqft_issued_amt'].mean()\n",
    "yesterday_permits_sqft_to_average = same_day_as_yesterday_permits_sqft/yesterday_permits_sqft\n",
    "reporting_date = date['yesterday'][0].strftime('%A, %b %d, %Y')\n",
    "yesterday_permits_w_swft = permits_by_date[permits_by_date.is_yesterday].count_permits_issued_w_sqft.values[0]"
   ]
  },
  {
   "cell_type": "code",
   "execution_count": 10,
   "metadata": {},
   "outputs": [],
   "source": [
    "new_html = f'''<!DOCTYPE HTML>\n",
    "<html>\n",
    "<head>\n",
    "    <!-- {datetime.datetime.now().strftime('%A, %b %d, %Y %H:%M')} -->\n",
    "\t<meta charset=\"utf-8\">\n",
    "\t<meta name=\"viewport\" content=\"width=device-width, initial-scale=1.0\">\n",
    "\t<title id=\"title\">Projects</title>\n",
    "\t<link rel=\"stylesheet\" href=\"styles_projects.css\" type=\"\" media=\"screen\" />\n",
    "  <script src=\"http://d3js.org/d3.v3.min.js\" charset=\"utf-8\"></script>\n",
    "</head>\n",
    "<body>\n",
    "\t<h1 style='margin-top:50px;text-align:center;margin-left:20px'>Portland Building Permits Report {date['yesterday'][0].strftime('%A, %b %d, %Y')}</h1>\n",
    "\t<p style='text-align:center;font-size:12px;'>\n",
    "\t\tAccess to the full dataset is available for purchase.\n",
    "\t\tSend an email to zephyr.schafer@gmail.com to request\n",
    "\t</p>\n",
    "\t<p style='margin-left:10%;margin-right:10%;text-align:left;font-size:16px;'>\n",
    "    On {reporting_date}, the City of Portland issued permits for {'{:,.1f}'.format(yesterday_permits_sqft/(10**3))}K new square footage of development.\n",
    "    That's {'{:,.1f}%'.format(yesterday_permits_sqft_to_average*100)} of the average for a {date['yesterday'][0].strftime('%A, %b %d, %Y').split(',')[0]} for the past 365 days.\n",
    "    (Over the past year, the City has averaged {'{:,.1f}'.format(all_days_permits_sqft/(10**3))}K permits per day and {'{:,.1f}'.format(same_day_as_yesterday_permits_sqft/(10**3))}K permits per {date['yesterday'][0].strftime('%A, %b %d, %Y').split(',')[0]}\n",
    "    There were {'{:,.0f}'.format(yesterday_permits.total_sqft_amt.count())} permits with square footage, a mean of {'{:,.0f}'.format(yesterday_permits.total_sqft_amt.mean())}, a median of {'{:,.0f}'.format(yesterday_permits.total_sqft_amt.median())}.\n",
    "    The greatest amount of square footage was {'{:,.0f}'.format(yesterday_permits.total_sqft_amt.max())}, the smallest amount of square footage came from {'{:,.0f}'.format(yesterday_permits.total_sqft_amt.min())}\n",
    "\t\t<br> <br>\n",
    "\t\t\tThe graph below shows the breakdown of square footage by use type.\n",
    "\t\t\t<img src=\"output.png\" style=\" display: block;margin-left: auto;margin-right: auto;width: 50%;\"alt=\"\">\n",
    "\t\t<br> <br>\n",
    "\t\t\tThe table below shows the permits issued yesterday\n",
    "\t\t\t<div style='margin-left: 25%;text-align: center;'id='thetable'></div>\n",
    "\t\t<br> <br>\n",
    "\t\t\t...\n",
    "\t\t\t<img src=\"/graphs/graph1.png\" style=\" display: block;margin-left: auto;margin-right: auto;width: 50%;\"alt=\"\">\n",
    "\t\t\t<img src=\"/graphs/graph2.png\" style=\" display: block;margin-left: auto;margin-right: auto;width: 50%;\"alt=\"\">\n",
    "\t\t\t<img src=\"/graphs/graph3.png\" style=\" display: block;margin-left: auto;margin-right: auto;width: 50%;\"alt=\"\">\n",
    "\t\t\t<img src=\"/graphs/graph4.png\" style=\" display: block;margin-left: auto;margin-right: auto;width: 50%;\"alt=\"\">\n",
    "\t\t\t<img src=\"/graphs/graph5.png\" style=\" display: block;margin-left: auto;margin-right: auto;width: 50%;\"alt=\"\">\n",
    "\t\t\t<img src=\"/graphs/graph6.png\" style=\" display: block;margin-left: auto;margin-right: auto;width: 50%;\"alt=\"\">\n",
    "\t\t\t<img src=\"/graphs/graph7.png\" style=\" display: block;margin-left: auto;margin-right: auto;width: 50%;\"alt=\"\">\n",
    "\t\t<br> <br>\n",
    "\t</p>\n",
    "<script src='/tablemaker.js'></script>\n",
    "<html>'''"
   ]
  },
  {
   "cell_type": "code",
   "execution_count": 11,
   "metadata": {},
   "outputs": [],
   "source": [
    "# file_write = open(\"portland_permits.html\", \"wt\")\n",
    "# n = file_write.write(new_html)\n",
    "# file_write.close()"
   ]
  }
 ],
 "metadata": {
  "kernelspec": {
   "display_name": "Python 3",
   "language": "python",
   "name": "python3"
  },
  "language_info": {
   "codemirror_mode": {
    "name": "ipython",
    "version": 3
   },
   "file_extension": ".py",
   "mimetype": "text/x-python",
   "name": "python",
   "nbconvert_exporter": "python",
   "pygments_lexer": "ipython3",
   "version": "3.8.2"
  }
 },
 "nbformat": 4,
 "nbformat_minor": 4
}
