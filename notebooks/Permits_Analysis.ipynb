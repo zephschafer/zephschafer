{
 "cells": [
  {
   "cell_type": "code",
   "execution_count": 1,
   "metadata": {},
   "outputs": [],
   "source": [
    "import datetime\n",
    "from google.cloud import bigquery\n",
    "\n",
    "client = bigquery.Client()\n",
    "\n",
    "dataset_name = 'quipu_dbt'\n",
    "project_name = 'zs-econ-data'"
   ]
  },
  {
   "cell_type": "markdown",
   "metadata": {},
   "source": [
    "### Permits Timeseries"
   ]
  },
  {
   "cell_type": "code",
   "execution_count": 2,
   "metadata": {},
   "outputs": [],
   "source": [
    "rolling_365_permits = client.query(f'''\n",
    "    SELECT \n",
    "        date\n",
    "        , AVG(total_sqft_issued_amt) OVER (ORDER BY date DESC ROWS BETWEEN CURRENT ROW AND 364 FOLLOWING) AS total_sqft_issued_amt\n",
    "        , AVG(total_new_units_issued_amt) OVER (ORDER BY date DESC ROWS BETWEEN CURRENT ROW AND 364 FOLLOWING) AS total_new_units_issued_amt\n",
    "        , AVG(count_permits_issued) OVER (ORDER BY date DESC ROWS BETWEEN CURRENT ROW AND 364 FOLLOWING) AS count_permits_issued\n",
    "        , SUM(count_permits_issued) OVER (ORDER BY date DESC ROWS BETWEEN CURRENT ROW AND 364 FOLLOWING) AS count_total_permits_issued\n",
    "    FROM `{project_name}.{dataset_name}.permits_by_date`\n",
    "    WHERE date > '2010-01-01'\n",
    "    ORDER BY date ASC\n",
    "''').result().to_dataframe()"
   ]
  },
  {
   "cell_type": "code",
   "execution_count": 3,
   "metadata": {},
   "outputs": [],
   "source": [
    "rolling_365_permits[100:].set_index('date').to_csv('../data/issuances_rolling_365.csv')"
   ]
  },
  {
   "cell_type": "markdown",
   "metadata": {},
   "source": [
    "### This Week Permits Table"
   ]
  },
  {
   "cell_type": "code",
   "execution_count": 4,
   "metadata": {},
   "outputs": [],
   "source": [
    "this_week_permits_issued = client.query(f'''\n",
    "    SELECT\n",
    "        structure_type\n",
    "        , DATE(under_review_at) AS Submitted\n",
    "        , DATE(issued_at) AS Issued\n",
    "        , work_type\n",
    "        , function_type\n",
    "        , neighborhood\n",
    "        , total_sqft_amt\n",
    "        , stories_amt\n",
    "        , new_units_amt\n",
    "        , value\n",
    "        , description\n",
    "    FROM `{project_name}.{dataset_name}.permits_cleaned`\n",
    "    WHERE DATE(issued_at) BETWEEN DATE(CURRENT_DATE - 7) AND DATE(CURRENT_DATE)\n",
    "    ORDER BY issued_at DESC\n",
    "''').result().to_dataframe()\\\n",
    ".rename(columns={\n",
    "    'structure_type':'Structure'\n",
    "    ,'work_type':'Type of Work'\n",
    "    ,'function_type':'Building Function'\n",
    "    ,'neighborhood':'Neighborhood'\n",
    "    ,'total_sqft_amt':'New Square Feet'\n",
    "    ,'stories_amt':'Building\\'s Stories'\n",
    "    ,'new_units_amt':'New Residential Units'\n",
    "    ,'value':'Construction Value'\n",
    "    ,'description':'Description'})\n",
    "this_week_permits_issued['Neighborhood'] = this_week_permits_issued['Neighborhood']\\\n",
    "                                            .str.replace(' Neighborhood','').str.replace(' Association','')"
   ]
  },
  {
   "cell_type": "code",
   "execution_count": 5,
   "metadata": {},
   "outputs": [],
   "source": [
    "this_week_permits_issued.sort_values('New Square Feet', ascending=False).to_csv(f'../data/table_1_issued.csv', index=False)"
   ]
  },
  {
   "cell_type": "markdown",
   "metadata": {},
   "source": [
    "### Avg Days to Issue"
   ]
  },
  {
   "cell_type": "code",
   "execution_count": 6,
   "metadata": {},
   "outputs": [],
   "source": [
    "# days_to_issue = client.query(f'''\n",
    "#     SELECT \n",
    "#         date\n",
    "#         , days_to_issue_sqft\n",
    "#         , days_to_issue_new_units\n",
    "#         , avg_days_to_issue\n",
    "#     FROM `{project_name}.{dataset_name}.permits_by_date`\n",
    "#     WHERE date > '2010-01-01'\n",
    "#     ORDER BY date ASC\n",
    "# ''').result().to_dataframe()"
   ]
  },
  {
   "cell_type": "code",
   "execution_count": 7,
   "metadata": {},
   "outputs": [],
   "source": [
    "# dfs = {}\n",
    "# for field in ['days_to_issue_sqft', 'days_to_issue_new_units', 'avg_days_to_issue']:\n",
    "#     dfs[field] = days_to_issue[['date',field]]\\\n",
    "#                     .set_index('date').ffill().rolling(365).mean()[365:]\\\n",
    "#                     .rename(columns={field:'value'})\n",
    "#     dfs[field].to_csv(f'data/graph_2_{field}.csv')\n",
    "#     dfs[field].plot(figsize=(12,3))"
   ]
  },
  {
   "cell_type": "markdown",
   "metadata": {},
   "source": [
    "### Permits Backlog"
   ]
  },
  {
   "cell_type": "code",
   "execution_count": 8,
   "metadata": {},
   "outputs": [],
   "source": [
    "# backlog = client.query(f'''\n",
    "#     SELECT \n",
    "#         date\n",
    "#         , AVG(total_sqft_waiting_approval) OVER (ORDER BY date DESC ROWS BETWEEN CURRENT ROW AND 364 FOLLOWING) AS sqft_backlog_rolling_year\n",
    "#         , AVG(total_sqft_issued_amt) OVER (ORDER BY date DESC ROWS BETWEEN CURRENT ROW AND 364 FOLLOWING) AS sqft_issued_rolling_year\n",
    "#         , AVG(total_sqft_review_amt) OVER (ORDER BY date DESC ROWS BETWEEN CURRENT ROW AND 364 FOLLOWING) AS sqft_submitted_rolling_year\n",
    "#         , AVG(total_new_units_waiting_approval) OVER (ORDER BY date DESC ROWS BETWEEN CURRENT ROW AND 364 FOLLOWING) AS new_units_backlog_rolling_year\n",
    "#         , AVG(total_new_units_issued_amt) OVER (ORDER BY date DESC ROWS BETWEEN CURRENT ROW AND 364 FOLLOWING) AS new_units_issued_rolling_year\n",
    "#         , AVG(total_new_units_review_amt) OVER (ORDER BY date DESC ROWS BETWEEN CURRENT ROW AND 364 FOLLOWING) AS new_units_submitted_rolling_year\n",
    "#     FROM `{project_name}.{dataset_name}.permits_by_date`\n",
    "#     WHERE date > '2010-01-01'\n",
    "#     ORDER BY date ASC\n",
    "# ''').result().to_dataframe()\n",
    "# backlog['sqft_backlog_rolling_year_pct'] = backlog.sqft_backlog_rolling_year/backlog.sqft_issued_rolling_year\n",
    "# backlog['units_backlog_rolling_year_pct'] = backlog.sqft_backlog_rolling_year/backlog.sqft_issued_rolling_year"
   ]
  },
  {
   "cell_type": "code",
   "execution_count": 9,
   "metadata": {},
   "outputs": [],
   "source": [
    "# issues_and_submissions_sqft = backlog[['date','sqft_issued_rolling_year','sqft_submitted_rolling_year']][365:]\\\n",
    "#     .set_index('date')\n",
    "# issues_and_submissions_sqft.plot(figsize=(12,3))\n",
    "# # issues_and_submissions_sqft.to_csv('data/graph_2_issues_and_submissions_sqft.csv')\n",
    "\n",
    "# sqft_backlog_num = backlog[['date','sqft_backlog_rolling_year']][365:].set_index('date')\n",
    "# sqft_backlog_num.plot(figsize=(12,3))\n",
    "# # sqft_backlog_num.to_csv('data/graph_2_sqft_backlog_num.csv')\n",
    "\n",
    "# sqft_backlog_pct = backlog[['date','sqft_backlog_rolling_year_pct']][365:].set_index('date')\n",
    "# sqft_backlog_pct.plot(figsize=(12,3))\n",
    "# # sqft_backlog_pct.to_csv('data/graph_2_sqft_backlog_pct')"
   ]
  },
  {
   "cell_type": "code",
   "execution_count": 10,
   "metadata": {},
   "outputs": [],
   "source": [
    "# issues_and_submissions_units = backlog[['date','new_units_issued_rolling_year','new_units_submitted_rolling_year']][365:]\\\n",
    "#     .set_index('date')\n",
    "# issues_and_submissions_units.plot(figsize=(12,3))\n",
    "# # issues_and_submissions_units.to_csv('data/graph_2_issues_and_submissions_units.csv')\n",
    "\n",
    "# units_backlog_num = backlog[['date','new_units_backlog_rolling_year']][365:].set_index('date')\n",
    "# units_backlog_num.plot(figsize=(12,3))\n",
    "# # units_backlog_num.to_csv('data/graph_2_units_backlog_num.csv')\n",
    "\n",
    "# units_backlog_pct = backlog[['date','units_backlog_rolling_year_pct']][365:].set_index('date')\n",
    "# units_backlog_pct.plot(figsize=(12,3))\n",
    "# # units_backlog_pct.to_csv('data/graph_2_units_backlog_pct')"
   ]
  },
  {
   "cell_type": "markdown",
   "metadata": {},
   "source": [
    "### Issuances By [Type]"
   ]
  },
  {
   "cell_type": "code",
   "execution_count": 11,
   "metadata": {},
   "outputs": [],
   "source": [
    "dfs = {}\n",
    "for permit_type in ['work_type','structure_type','function_type']:\n",
    "    dfs[permit_type] = client.query(f'''\n",
    "        SELECT \n",
    "            date\n",
    "            , {permit_type} AS type\n",
    "            , total_sqft_issued_amt AS value\n",
    "        FROM `{project_name}.{dataset_name}.permits_by_date_and_{permit_type}`\n",
    "        WHERE date > '2011-01-01'\n",
    "            AND {permit_type} IS NOT NULL\n",
    "        ORDER BY date ASC\n",
    "    ''').result().to_dataframe()\n",
    "    dfs[permit_type].pivot(\n",
    "        index='date'\n",
    "        ,columns='type'\n",
    "        ,values='value'\n",
    "    ).fillna(0).rolling(365).mean().reset_index().melt(\n",
    "                                                    id_vars=['date']\n",
    "                                                    , var_name='type'\n",
    "                                                    , value_name='value')\n",
    "#     .to_csv(f'../data/issuances_x_{permit_type}.csv')"
   ]
  },
  {
   "cell_type": "markdown",
   "metadata": {},
   "source": [
    "### HTML Construction"
   ]
  },
  {
   "cell_type": "code",
   "execution_count": 12,
   "metadata": {},
   "outputs": [],
   "source": [
    "permits_by_date = client.query(f'''\n",
    "    SELECT \n",
    "        *\n",
    "        , EXTRACT(DAYOFWEEK FROM date) AS day_of_week\n",
    "        , DATE(date) BETWEEN (CURRENT_DATE - 7) AND CURRENT_DATE AS is_this_week\n",
    "    FROM `{project_name}.{dataset_name}.permits_by_date`\n",
    "    WHERE date BETWEEN '2022-01-01' AND CURRENT_DATE\n",
    "''').result().to_dataframe()"
   ]
  },
  {
   "cell_type": "code",
   "execution_count": 13,
   "metadata": {},
   "outputs": [],
   "source": [
    "this_week_permits_sqft = permits_by_date[permits_by_date.is_this_week].total_sqft_issued_amt.sum()"
   ]
  },
  {
   "cell_type": "code",
   "execution_count": 14,
   "metadata": {},
   "outputs": [],
   "source": [
    "new_html = f'''---\n",
    "# portland permits\n",
    "---\n",
    "<!DOCTYPE HTML>\n",
    "<html>\n",
    "<head>\n",
    "    <!-- Sunday, Feb 27, 2022 08:37 -->\n",
    "    <meta charset=\"utf-8\">\n",
    "    <meta name=\"viewport\" content=\"width=device-width, initial-scale=1.0\">\n",
    "    <title id=\"title\">Projects</title>\n",
    "    <link rel=\"stylesheet\" href=\"{{{{ '/styles/styles_projects.css' | relative_url }}}}\" type=\"\" media=\"screen\" />\n",
    "  <script src=\"http://d3js.org/d3.v3.min.js\" charset=\"utf-8\"></script>\n",
    "    <script src=\"https://d3js.org/d3.v4.js\"></script>\n",
    "</head>\n",
    "<body>\n",
    "    <h1 style='margin-top:50px;text-align:center;margin-left:20px;'>Portland Development Report</h1>\n",
    "    <p style='text-align:center;font-size:12px;'>\n",
    "        Last Updated: {datetime.datetime.now().strftime('%A, %b %d, %Y')}\n",
    "        <br>\n",
    "        Source: City of Portland, <a href='https://www.portlandmaps.com/development/'>Portland Maps API</a>\n",
    "        <br>\n",
    "        Email zephyr.schafer@gmail.com with data requests or inquiries.\n",
    "    </p>\n",
    "\n",
    "\n",
    "    <p style='margin-left:10%;margin-right:10%;text-align:left;font-size:16px;'>\n",
    "        To add to the City's supply of developed space, new construction projects require approval\n",
    "        from the City's <a href='https://www.portland.gov/bds'>Bureau of Development Services</a>.\n",
    "        <br><br>\n",
    "    <p style='margin-left:10%;margin-right:10%;text-align:left;font-size:16px;'>\n",
    "        For the 365-day period ending on {datetime.datetime.now().strftime('%A, %b %d, %Y')}, \n",
    "        the City issued a total of \n",
    "        {'{:,.0f}'.format(rolling_365_permits[-1:].count_total_permits_issued.values[0])} \n",
    "        permits with at least 100 new square feet of development,\n",
    "        or {'{:,.1f}'.format(rolling_365_permits[-1:].count_permits_issued.values[0])} per day.\n",
    "        These allowed for a daily averge of \n",
    "        {'{:,.0f}'.format(rolling_365_permits[-1:].total_sqft_issued_amt.values[0])} \n",
    "        new square feet of development, \n",
    "        and {'{:,.0f}'.format(rolling_365_permits[-1:].total_new_units_issued_amt.values[0])}\n",
    "        new residential units.\n",
    "        The graph below shows permit issuances from August 2011 through today.\n",
    "    </p>\n",
    "    <div class='headerWithTooltip'>\n",
    "        <h4 class='headerWithTooltip' style='text-align:center;'>Average Daily Permits Issued (rolling 365-day mean)\n",
    "            <span class=\"tooltiptext\">The graph shows a rolling 365-day average. Only permits with at least 100 square feet of affected construction are included.</span>\n",
    "        </h4>\n",
    "    </div>\n",
    "    <div id=\"graph\"></div>\n",
    "    <div id=\"selector\"></div>\n",
    "\n",
    "    <p style='margin-left:10%;margin-right:10%;text-align:left;font-size:16px;'>\n",
    "        Over the past 7 days,  the City of Portland \n",
    "        issued permits for {'{:,.0f}'.format(this_week_permits_sqft/(10**3))}K new square footage of development.\n",
    "        The table below lists the permits issued in the past 7 days.\n",
    "    </p>\n",
    "\n",
    "    <div style='margin-left:10%;margin-right:10%;text-align:left;font-size:14px;' id=\"yesterday_permits\"></div>\n",
    "\n",
    "    <p style='margin-left:10%;margin-bottom:50px;margin-top:75px;margin-right:10%;text-align:left;font-size:16px;'>\n",
    "        Building permits vary by the type of structure, its function, and the type\n",
    "        of construction. The stacked area chart below shows a rolling 365-day average\n",
    "        of permits by type and date if issue.\n",
    "    </p>\n",
    "\n",
    "    <div style='margin-left:10%;margin-right:10%;text-align:left;font-size:14px;' id=\"permits-stacked-by-type-viewof-selector\"></div>\n",
    "    <div style='margin-left:10%;margin-right:10%;text-align:left;font-size:14px;' id=\"permits-stacked-by-type-key\"></div>\n",
    "    <div style='margin-left:10%;margin-right:10%;text-align:left;font-size:14px;' id=\"permits-stacked-by-type-chart\"></div>\n",
    "    <div style='margin-top:20%'></div>\n",
    "\n",
    "\n",
    "    <script type='module' src=\"{{{{ '/scripts/yesterday_permits_table.js' | relative_url }}}}\"></script>\n",
    "    <script type='module' src=\"{{{{'/scripts/permits_timeseries.js' | relative_url }}}}\"></script>\n",
    "    <script type='module' src=\"{{{{ '/scripts/permits_stacked_by_type.js' | relative_url }}}}\"></script>\n",
    "\n",
    "<html>'''"
   ]
  },
  {
   "cell_type": "code",
   "execution_count": 15,
   "metadata": {},
   "outputs": [],
   "source": [
    "file_write = open(\"../pages/portland_permits.html\", \"wt\")\n",
    "n = file_write.write(new_html)\n",
    "file_write.close()"
   ]
  }
 ],
 "metadata": {
  "kernelspec": {
   "display_name": "Python 3 (ipykernel)",
   "language": "python",
   "name": "python3"
  },
  "language_info": {
   "codemirror_mode": {
    "name": "ipython",
    "version": 3
   },
   "file_extension": ".py",
   "mimetype": "text/x-python",
   "name": "python",
   "nbconvert_exporter": "python",
   "pygments_lexer": "ipython3",
   "version": "3.8.13"
  }
 },
 "nbformat": 4,
 "nbformat_minor": 4
}
