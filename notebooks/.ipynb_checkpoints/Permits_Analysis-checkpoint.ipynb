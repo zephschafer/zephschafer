{
 "cells": [
  {
   "cell_type": "code",
   "execution_count": 1,
   "metadata": {},
   "outputs": [],
   "source": [
    "import datetime\n",
    "from google.cloud import bigquery\n",
    "\n",
    "client = bigquery.Client()\n",
    "\n",
    "dataset_name = 'quipu_dbt_zeph_dev'\n",
    "project_name = 'zs-econ-data'"
   ]
  },
  {
   "cell_type": "markdown",
   "metadata": {},
   "source": [
    "### Permits Timeseries"
   ]
  },
  {
   "cell_type": "code",
   "execution_count": 2,
   "metadata": {},
   "outputs": [],
   "source": [
    "rolling_365_permits = client.query(f'''\n",
    "    SELECT \n",
    "        date\n",
    "        , AVG(total_sqft_issued_amt) OVER (ORDER BY date DESC ROWS BETWEEN CURRENT ROW AND 364 FOLLOWING) AS sqft_per_permit\n",
    "        , AVG(total_new_units_issued_amt) OVER (ORDER BY date DESC ROWS BETWEEN CURRENT ROW AND 364 FOLLOWING) AS total_new_units_issued_amt\n",
    "        , AVG(count_permits_issued) OVER (ORDER BY date DESC ROWS BETWEEN CURRENT ROW AND 364 FOLLOWING) AS count_permits_issued\n",
    "    FROM `{project_name}.{dataset_name}.permits_by_date`\n",
    "    WHERE date > '2010-01-01'\n",
    "    ORDER BY date ASC\n",
    "''').result().to_dataframe()"
   ]
  },
  {
   "cell_type": "code",
   "execution_count": 3,
   "metadata": {},
   "outputs": [],
   "source": [
    "rolling_365_permits[100:].set_index('date').to_csv('../data/issuances_rolling_365.csv')"
   ]
  },
  {
   "cell_type": "markdown",
   "metadata": {},
   "source": [
    "### Yesterday Permits Tabke"
   ]
  },
  {
   "cell_type": "code",
   "execution_count": 34,
   "metadata": {},
   "outputs": [
    {
     "ename": "KeyError",
     "evalue": "'Nieghborhood'",
     "output_type": "error",
     "traceback": [
      "\u001b[0;31m---------------------------------------------------------------------------\u001b[0m",
      "\u001b[0;31mKeyError\u001b[0m                                  Traceback (most recent call last)",
      "\u001b[0;32m~/anaconda3/envs/zpy3/lib/python3.8/site-packages/pandas/core/indexes/base.py\u001b[0m in \u001b[0;36mget_loc\u001b[0;34m(self, key, method, tolerance)\u001b[0m\n\u001b[1;32m   2645\u001b[0m             \u001b[0;32mtry\u001b[0m\u001b[0;34m:\u001b[0m\u001b[0;34m\u001b[0m\u001b[0;34m\u001b[0m\u001b[0m\n\u001b[0;32m-> 2646\u001b[0;31m                 \u001b[0;32mreturn\u001b[0m \u001b[0mself\u001b[0m\u001b[0;34m.\u001b[0m\u001b[0m_engine\u001b[0m\u001b[0;34m.\u001b[0m\u001b[0mget_loc\u001b[0m\u001b[0;34m(\u001b[0m\u001b[0mkey\u001b[0m\u001b[0;34m)\u001b[0m\u001b[0;34m\u001b[0m\u001b[0;34m\u001b[0m\u001b[0m\n\u001b[0m\u001b[1;32m   2647\u001b[0m             \u001b[0;32mexcept\u001b[0m \u001b[0mKeyError\u001b[0m\u001b[0;34m:\u001b[0m\u001b[0;34m\u001b[0m\u001b[0;34m\u001b[0m\u001b[0m\n",
      "\u001b[0;32mpandas/_libs/index.pyx\u001b[0m in \u001b[0;36mpandas._libs.index.IndexEngine.get_loc\u001b[0;34m()\u001b[0m\n",
      "\u001b[0;32mpandas/_libs/index.pyx\u001b[0m in \u001b[0;36mpandas._libs.index.IndexEngine.get_loc\u001b[0;34m()\u001b[0m\n",
      "\u001b[0;32mpandas/_libs/hashtable_class_helper.pxi\u001b[0m in \u001b[0;36mpandas._libs.hashtable.PyObjectHashTable.get_item\u001b[0;34m()\u001b[0m\n",
      "\u001b[0;32mpandas/_libs/hashtable_class_helper.pxi\u001b[0m in \u001b[0;36mpandas._libs.hashtable.PyObjectHashTable.get_item\u001b[0;34m()\u001b[0m\n",
      "\u001b[0;31mKeyError\u001b[0m: 'Nieghborhood'",
      "\nDuring handling of the above exception, another exception occurred:\n",
      "\u001b[0;31mKeyError\u001b[0m                                  Traceback (most recent call last)",
      "\u001b[0;32m<ipython-input-34-835e42312230>\u001b[0m in \u001b[0;36m<module>\u001b[0;34m\u001b[0m\n\u001b[1;32m     23\u001b[0m     \u001b[0;34m,\u001b[0m\u001b[0;34m'value'\u001b[0m\u001b[0;34m:\u001b[0m\u001b[0;34m'Construction Value'\u001b[0m\u001b[0;34m\u001b[0m\u001b[0;34m\u001b[0m\u001b[0m\n\u001b[1;32m     24\u001b[0m     ,'description':'Description'})\n\u001b[0;32m---> 25\u001b[0;31m \u001b[0myesterday_permits_issued\u001b[0m\u001b[0;34m[\u001b[0m\u001b[0;34m'Nieghborhood'\u001b[0m\u001b[0;34m]\u001b[0m \u001b[0;34m=\u001b[0m \u001b[0myesterday_permits_issued\u001b[0m\u001b[0;34m[\u001b[0m\u001b[0;34m'Nieghborhood'\u001b[0m\u001b[0;34m]\u001b[0m\u001b[0;31m\\\u001b[0m\u001b[0;34m\u001b[0m\u001b[0;34m\u001b[0m\u001b[0m\n\u001b[0m\u001b[1;32m     26\u001b[0m                                             \u001b[0;34m.\u001b[0m\u001b[0mstr\u001b[0m\u001b[0;34m.\u001b[0m\u001b[0mreplace\u001b[0m\u001b[0;34m(\u001b[0m\u001b[0;34m' Neighborhood'\u001b[0m\u001b[0;34m,\u001b[0m\u001b[0;34m''\u001b[0m\u001b[0;34m)\u001b[0m\u001b[0;34m.\u001b[0m\u001b[0mstr\u001b[0m\u001b[0;34m.\u001b[0m\u001b[0mreplace\u001b[0m\u001b[0;34m(\u001b[0m\u001b[0;34m' Association'\u001b[0m\u001b[0;34m,\u001b[0m\u001b[0;34m''\u001b[0m\u001b[0;34m)\u001b[0m\u001b[0;34m\u001b[0m\u001b[0;34m\u001b[0m\u001b[0m\n",
      "\u001b[0;32m~/anaconda3/envs/zpy3/lib/python3.8/site-packages/pandas/core/frame.py\u001b[0m in \u001b[0;36m__getitem__\u001b[0;34m(self, key)\u001b[0m\n\u001b[1;32m   2798\u001b[0m             \u001b[0;32mif\u001b[0m \u001b[0mself\u001b[0m\u001b[0;34m.\u001b[0m\u001b[0mcolumns\u001b[0m\u001b[0;34m.\u001b[0m\u001b[0mnlevels\u001b[0m \u001b[0;34m>\u001b[0m \u001b[0;36m1\u001b[0m\u001b[0;34m:\u001b[0m\u001b[0;34m\u001b[0m\u001b[0;34m\u001b[0m\u001b[0m\n\u001b[1;32m   2799\u001b[0m                 \u001b[0;32mreturn\u001b[0m \u001b[0mself\u001b[0m\u001b[0;34m.\u001b[0m\u001b[0m_getitem_multilevel\u001b[0m\u001b[0;34m(\u001b[0m\u001b[0mkey\u001b[0m\u001b[0;34m)\u001b[0m\u001b[0;34m\u001b[0m\u001b[0;34m\u001b[0m\u001b[0m\n\u001b[0;32m-> 2800\u001b[0;31m             \u001b[0mindexer\u001b[0m \u001b[0;34m=\u001b[0m \u001b[0mself\u001b[0m\u001b[0;34m.\u001b[0m\u001b[0mcolumns\u001b[0m\u001b[0;34m.\u001b[0m\u001b[0mget_loc\u001b[0m\u001b[0;34m(\u001b[0m\u001b[0mkey\u001b[0m\u001b[0;34m)\u001b[0m\u001b[0;34m\u001b[0m\u001b[0;34m\u001b[0m\u001b[0m\n\u001b[0m\u001b[1;32m   2801\u001b[0m             \u001b[0;32mif\u001b[0m \u001b[0mis_integer\u001b[0m\u001b[0;34m(\u001b[0m\u001b[0mindexer\u001b[0m\u001b[0;34m)\u001b[0m\u001b[0;34m:\u001b[0m\u001b[0;34m\u001b[0m\u001b[0;34m\u001b[0m\u001b[0m\n\u001b[1;32m   2802\u001b[0m                 \u001b[0mindexer\u001b[0m \u001b[0;34m=\u001b[0m \u001b[0;34m[\u001b[0m\u001b[0mindexer\u001b[0m\u001b[0;34m]\u001b[0m\u001b[0;34m\u001b[0m\u001b[0;34m\u001b[0m\u001b[0m\n",
      "\u001b[0;32m~/anaconda3/envs/zpy3/lib/python3.8/site-packages/pandas/core/indexes/base.py\u001b[0m in \u001b[0;36mget_loc\u001b[0;34m(self, key, method, tolerance)\u001b[0m\n\u001b[1;32m   2646\u001b[0m                 \u001b[0;32mreturn\u001b[0m \u001b[0mself\u001b[0m\u001b[0;34m.\u001b[0m\u001b[0m_engine\u001b[0m\u001b[0;34m.\u001b[0m\u001b[0mget_loc\u001b[0m\u001b[0;34m(\u001b[0m\u001b[0mkey\u001b[0m\u001b[0;34m)\u001b[0m\u001b[0;34m\u001b[0m\u001b[0;34m\u001b[0m\u001b[0m\n\u001b[1;32m   2647\u001b[0m             \u001b[0;32mexcept\u001b[0m \u001b[0mKeyError\u001b[0m\u001b[0;34m:\u001b[0m\u001b[0;34m\u001b[0m\u001b[0;34m\u001b[0m\u001b[0m\n\u001b[0;32m-> 2648\u001b[0;31m                 \u001b[0;32mreturn\u001b[0m \u001b[0mself\u001b[0m\u001b[0;34m.\u001b[0m\u001b[0m_engine\u001b[0m\u001b[0;34m.\u001b[0m\u001b[0mget_loc\u001b[0m\u001b[0;34m(\u001b[0m\u001b[0mself\u001b[0m\u001b[0;34m.\u001b[0m\u001b[0m_maybe_cast_indexer\u001b[0m\u001b[0;34m(\u001b[0m\u001b[0mkey\u001b[0m\u001b[0;34m)\u001b[0m\u001b[0;34m)\u001b[0m\u001b[0;34m\u001b[0m\u001b[0;34m\u001b[0m\u001b[0m\n\u001b[0m\u001b[1;32m   2649\u001b[0m         \u001b[0mindexer\u001b[0m \u001b[0;34m=\u001b[0m \u001b[0mself\u001b[0m\u001b[0;34m.\u001b[0m\u001b[0mget_indexer\u001b[0m\u001b[0;34m(\u001b[0m\u001b[0;34m[\u001b[0m\u001b[0mkey\u001b[0m\u001b[0;34m]\u001b[0m\u001b[0;34m,\u001b[0m \u001b[0mmethod\u001b[0m\u001b[0;34m=\u001b[0m\u001b[0mmethod\u001b[0m\u001b[0;34m,\u001b[0m \u001b[0mtolerance\u001b[0m\u001b[0;34m=\u001b[0m\u001b[0mtolerance\u001b[0m\u001b[0;34m)\u001b[0m\u001b[0;34m\u001b[0m\u001b[0;34m\u001b[0m\u001b[0m\n\u001b[1;32m   2650\u001b[0m         \u001b[0;32mif\u001b[0m \u001b[0mindexer\u001b[0m\u001b[0;34m.\u001b[0m\u001b[0mndim\u001b[0m \u001b[0;34m>\u001b[0m \u001b[0;36m1\u001b[0m \u001b[0;32mor\u001b[0m \u001b[0mindexer\u001b[0m\u001b[0;34m.\u001b[0m\u001b[0msize\u001b[0m \u001b[0;34m>\u001b[0m \u001b[0;36m1\u001b[0m\u001b[0;34m:\u001b[0m\u001b[0;34m\u001b[0m\u001b[0;34m\u001b[0m\u001b[0m\n",
      "\u001b[0;32mpandas/_libs/index.pyx\u001b[0m in \u001b[0;36mpandas._libs.index.IndexEngine.get_loc\u001b[0;34m()\u001b[0m\n",
      "\u001b[0;32mpandas/_libs/index.pyx\u001b[0m in \u001b[0;36mpandas._libs.index.IndexEngine.get_loc\u001b[0;34m()\u001b[0m\n",
      "\u001b[0;32mpandas/_libs/hashtable_class_helper.pxi\u001b[0m in \u001b[0;36mpandas._libs.hashtable.PyObjectHashTable.get_item\u001b[0;34m()\u001b[0m\n",
      "\u001b[0;32mpandas/_libs/hashtable_class_helper.pxi\u001b[0m in \u001b[0;36mpandas._libs.hashtable.PyObjectHashTable.get_item\u001b[0;34m()\u001b[0m\n",
      "\u001b[0;31mKeyError\u001b[0m: 'Nieghborhood'"
     ]
    }
   ],
   "source": [
    "yesterday_permits_issued = client.query(f'''\n",
    "    SELECT\n",
    "        structure_type\n",
    "        , work_type\n",
    "        , function_type\n",
    "        , neighborhood\n",
    "        , total_sqft_amt\n",
    "        , stories_amt\n",
    "        , new_units_amt\n",
    "        , value\n",
    "        , description\n",
    "    FROM `{project_name}.{dataset_name}.permits_cleaned`\n",
    "    WHERE DATE(issued_at) BETWEEN DATE(CURRENT_DATE - 4) AND DATE(CURRENT_DATE)\n",
    "''').result().to_dataframe()\\\n",
    ".rename(columns={\n",
    "    'structure_type':'Structure'\n",
    "    ,'work_type':'Type of Work'\n",
    "    ,'function_type':'Building Function'\n",
    "    ,'neighborhood':'Neighborhood'\n",
    "    ,'total_sqft_amt':'New Square Feet'\n",
    "    ,'stories_amt':'Building\\'s Stories'\n",
    "    ,'new_units_amt':'New Residential Units'\n",
    "    ,'value':'Construction Value'\n",
    "    ,'description':'Description'})\n",
    "yesterday_permits_issued['Nieghborhood'] = yesterday_permits_issued['Nieghborhood']\\\n",
    "                                            .str.replace(' Neighborhood','').str.replace(' Association','')"
   ]
  },
  {
   "cell_type": "code",
   "execution_count": 32,
   "metadata": {},
   "outputs": [],
   "source": [
    "yesterday_permits_issued.sort_values('New Square Feet', ascending=False).to_csv(f'../data/table_1_issued.csv', index=False)"
   ]
  },
  {
   "cell_type": "markdown",
   "metadata": {},
   "source": [
    "### Avg Days to Issue"
   ]
  },
  {
   "cell_type": "code",
   "execution_count": 209,
   "metadata": {},
   "outputs": [],
   "source": [
    "# days_to_issue = client.query(f'''\n",
    "#     SELECT \n",
    "#         date\n",
    "#         , days_to_issue_sqft\n",
    "#         , days_to_issue_new_units\n",
    "#         , avg_days_to_issue\n",
    "#     FROM `{project_name}.{dataset_name}.permits_by_date`\n",
    "#     WHERE date > '2010-01-01'\n",
    "#     ORDER BY date ASC\n",
    "# ''').result().to_dataframe()"
   ]
  },
  {
   "cell_type": "code",
   "execution_count": 53,
   "metadata": {},
   "outputs": [],
   "source": [
    "# dfs = {}\n",
    "# for field in ['days_to_issue_sqft', 'days_to_issue_new_units', 'avg_days_to_issue']:\n",
    "#     dfs[field] = days_to_issue[['date',field]]\\\n",
    "#                     .set_index('date').ffill().rolling(365).mean()[365:]\\\n",
    "#                     .rename(columns={field:'value'})\n",
    "#     dfs[field].to_csv(f'data/graph_2_{field}.csv')\n",
    "#     dfs[field].plot(figsize=(12,3))"
   ]
  },
  {
   "cell_type": "markdown",
   "metadata": {},
   "source": [
    "### Permits Backlog"
   ]
  },
  {
   "cell_type": "code",
   "execution_count": 54,
   "metadata": {},
   "outputs": [],
   "source": [
    "# backlog = client.query(f'''\n",
    "#     SELECT \n",
    "#         date\n",
    "#         , AVG(total_sqft_waiting_approval) OVER (ORDER BY date DESC ROWS BETWEEN CURRENT ROW AND 364 FOLLOWING) AS sqft_backlog_rolling_year\n",
    "#         , AVG(total_sqft_issued_amt) OVER (ORDER BY date DESC ROWS BETWEEN CURRENT ROW AND 364 FOLLOWING) AS sqft_issued_rolling_year\n",
    "#         , AVG(total_sqft_review_amt) OVER (ORDER BY date DESC ROWS BETWEEN CURRENT ROW AND 364 FOLLOWING) AS sqft_submitted_rolling_year\n",
    "#         , AVG(total_new_units_waiting_approval) OVER (ORDER BY date DESC ROWS BETWEEN CURRENT ROW AND 364 FOLLOWING) AS new_units_backlog_rolling_year\n",
    "#         , AVG(total_new_units_issued_amt) OVER (ORDER BY date DESC ROWS BETWEEN CURRENT ROW AND 364 FOLLOWING) AS new_units_issued_rolling_year\n",
    "#         , AVG(total_new_units_review_amt) OVER (ORDER BY date DESC ROWS BETWEEN CURRENT ROW AND 364 FOLLOWING) AS new_units_submitted_rolling_year\n",
    "#     FROM `{project_name}.{dataset_name}.permits_by_date`\n",
    "#     WHERE date > '2010-01-01'\n",
    "#     ORDER BY date ASC\n",
    "# ''').result().to_dataframe()\n",
    "# backlog['sqft_backlog_rolling_year_pct'] = backlog.sqft_backlog_rolling_year/backlog.sqft_issued_rolling_year\n",
    "# backlog['units_backlog_rolling_year_pct'] = backlog.sqft_backlog_rolling_year/backlog.sqft_issued_rolling_year"
   ]
  },
  {
   "cell_type": "code",
   "execution_count": 51,
   "metadata": {},
   "outputs": [],
   "source": [
    "# issues_and_submissions_sqft = backlog[['date','sqft_issued_rolling_year','sqft_submitted_rolling_year']][365:]\\\n",
    "#     .set_index('date')\n",
    "# issues_and_submissions_sqft.plot(figsize=(12,3))\n",
    "# # issues_and_submissions_sqft.to_csv('data/graph_2_issues_and_submissions_sqft.csv')\n",
    "\n",
    "# sqft_backlog_num = backlog[['date','sqft_backlog_rolling_year']][365:].set_index('date')\n",
    "# sqft_backlog_num.plot(figsize=(12,3))\n",
    "# # sqft_backlog_num.to_csv('data/graph_2_sqft_backlog_num.csv')\n",
    "\n",
    "# sqft_backlog_pct = backlog[['date','sqft_backlog_rolling_year_pct']][365:].set_index('date')\n",
    "# sqft_backlog_pct.plot(figsize=(12,3))\n",
    "# # sqft_backlog_pct.to_csv('data/graph_2_sqft_backlog_pct')"
   ]
  },
  {
   "cell_type": "code",
   "execution_count": 52,
   "metadata": {},
   "outputs": [],
   "source": [
    "# issues_and_submissions_units = backlog[['date','new_units_issued_rolling_year','new_units_submitted_rolling_year']][365:]\\\n",
    "#     .set_index('date')\n",
    "# issues_and_submissions_units.plot(figsize=(12,3))\n",
    "# # issues_and_submissions_units.to_csv('data/graph_2_issues_and_submissions_units.csv')\n",
    "\n",
    "# units_backlog_num = backlog[['date','new_units_backlog_rolling_year']][365:].set_index('date')\n",
    "# units_backlog_num.plot(figsize=(12,3))\n",
    "# # units_backlog_num.to_csv('data/graph_2_units_backlog_num.csv')\n",
    "\n",
    "# units_backlog_pct = backlog[['date','units_backlog_rolling_year_pct']][365:].set_index('date')\n",
    "# units_backlog_pct.plot(figsize=(12,3))\n",
    "# # units_backlog_pct.to_csv('data/graph_2_units_backlog_pct')"
   ]
  },
  {
   "cell_type": "markdown",
   "metadata": {},
   "source": [
    "### Issuances By [Type]"
   ]
  },
  {
   "cell_type": "code",
   "execution_count": 7,
   "metadata": {},
   "outputs": [],
   "source": [
    "dfs = {}\n",
    "for permit_type in ['work_type','structure_type','function_type']:\n",
    "    dfs[permit_type] = client.query(f'''\n",
    "        SELECT \n",
    "            date\n",
    "            , {permit_type} AS type\n",
    "            , total_sqft_issued_amt AS value\n",
    "        FROM `{project_name}.{dataset_name}.permits_by_date_and_{permit_type}`\n",
    "        WHERE date > '2010-01-01'\n",
    "            AND {permit_type} IS NOT NULL\n",
    "        ORDER BY date ASC\n",
    "    ''').result().to_dataframe()\n",
    "    dfs[permit_type].pivot(\n",
    "        index='date'\n",
    "        ,columns='type'\n",
    "        ,values='value'\n",
    "    ).fillna(0).rolling(365).mean().reset_index().melt(\n",
    "                                                    id_vars=['date']\n",
    "                                                    , var_name='type'\n",
    "                                                    , value_name='value')\\\n",
    "    .to_csv(f'../data/issuances_x_{permit_type}.csv')"
   ]
  },
  {
   "cell_type": "markdown",
   "metadata": {},
   "source": [
    "### HTML Construction"
   ]
  },
  {
   "cell_type": "code",
   "execution_count": 35,
   "metadata": {},
   "outputs": [],
   "source": [
    "yesterday_permits = client.query(f'''\n",
    "    SELECT \n",
    "        *\n",
    "    FROM `{project_name}.{dataset_name}.permits_cleaned`\n",
    "    WHERE DATE(issued_at, \"America/Los_Angeles\") = (CURRENT_DATE - 4)\n",
    "        AND total_sqft_amt >= 200\n",
    "''').result().to_dataframe()"
   ]
  },
  {
   "cell_type": "code",
   "execution_count": 7,
   "metadata": {},
   "outputs": [],
   "source": [
    "permits_by_date = client.query(f'''\n",
    "    SELECT \n",
    "        *\n",
    "        , EXTRACT(DAYOFWEEK FROM date) AS day_of_week\n",
    "        , EXTRACT(DAYOFWEEK FROM date) = EXTRACT(DAYOFWEEK FROM (CURRENT_DATE - 2)) AS is_same_day_of_week_as_yesterday\n",
    "        , (DATE(date) = (CURRENT_DATE - 2)) AS is_yesterday\n",
    "    FROM `{project_name}.{dataset_name}.permits_by_date`\n",
    "    WHERE date BETWEEN '2022-01-01' AND CURRENT_DATE\n",
    "''').result().to_dataframe()"
   ]
  },
  {
   "cell_type": "markdown",
   "metadata": {},
   "source": [
    " "
   ]
  },
  {
   "cell_type": "code",
   "execution_count": 9,
   "metadata": {},
   "outputs": [],
   "source": [
    "all_days_permits_sqft = permits_by_date[permits_by_date.is_yesterday==False]['total_sqft_issued_amt'].mean()\n",
    "yesterday_permits_sqft = permits_by_date[permits_by_date.is_yesterday]['total_sqft_issued_amt'].values[0]\n",
    "same_day_as_yesterday_permits_sqft = permits_by_date[\n",
    "    (permits_by_date.is_same_day_of_week_as_yesterday==True) & (permits_by_date.is_yesterday==False)\n",
    "]['total_sqft_issued_amt'].mean()\n",
    "yesterday_permits_sqft_to_average = same_day_as_yesterday_permits_sqft/yesterday_permits_sqft\n",
    "reporting_date = date['yesterday'][0].strftime('%A, %b %d, %Y')\n",
    "yesterday_permits_w_swft = permits_by_date[permits_by_date.is_yesterday].count_permits_issued_w_sqft.values[0]"
   ]
  },
  {
   "cell_type": "code",
   "execution_count": 10,
   "metadata": {},
   "outputs": [],
   "source": [
    "new_html = f'''<!DOCTYPE HTML>\n",
    "<html>\n",
    "<head>\n",
    "    <!-- Sunday, Feb 27, 2022 08:37 -->\n",
    "    <meta charset=\"utf-8\">\n",
    "    <meta name=\"viewport\" content=\"width=device-width, initial-scale=1.0\">\n",
    "    <title id=\"title\">Projects</title>\n",
    "    <link rel=\"stylesheet\" href=\"stylesstyles_projects.css\" type=\"\" media=\"screen\" />\n",
    "  <script src=\"http://d3js.org/d3.v3.min.js\" charset=\"utf-8\"></script>\n",
    "    <script src=\"https://d3js.org/d3.v4.js\"></script>\n",
    "</head>\n",
    "<body>\n",
    "    <h1 style='margin-top:50px;text-align:center;margin-left:20px;'>Portland Development Report</h1>\n",
    "    <p style='text-align:center;font-size:12px;'>\n",
    "        Last Updated: {datetime.datetime.now().strftime('%A, %b %d, %Y')}\n",
    "        <br>\n",
    "        Source: City of Portland, <a href='https://www.portlandmaps.com/development/'>Portland Maps API</a>\n",
    "        <br>\n",
    "        Email zephyr.schafer@gmail.com with data requests or inquiries.\n",
    "    </p>\n",
    "\n",
    "\n",
    "    <p style='margin-left:10%;margin-right:10%;text-align:left;font-size:16px;'>\n",
    "        To add to the City's developed supply of space, new construction projects require approval\n",
    "        from the City's <a href='https://www.portland.gov/bds'>Bureau of Development Services</a>.\n",
    "        This daily report tracks the pace of development via the volume of permits.\n",
    "        <br><br>\n",
    "    <p style='margin-left:10%;margin-right:10%;text-align:left;font-size:16px;'>\n",
    "        For the 365-day period ending on {datetime.datetime.now().strftime('%A, %b %d, %Y')}, \n",
    "        the City issued a total of {len(yesterday} permits, or {{ X }}\n",
    "        per day, allowing for {'{:,.1f}'.format(yesterday_permits_sqft/(10**3))}K \n",
    "        new square feet of development, and {{ X }} new residential units.\n",
    "        The graph below shows permit issuances from 2010 through today.\n",
    "    </p>\n",
    "    <div class='headerWithTooltip'>\n",
    "        <h4 class='headerWithTooltip' style='text-align:center;'>Average Daily Permits Issued (rolling 365-day mean)\n",
    "            <span class=\"tooltiptext\">The graph shows a rolling 365-day average. Only permits with at least 200 square feet of affected construction are included.</span>\n",
    "        </h4>\n",
    "    </div>\n",
    "    <div id=\"graph\"></div>\n",
    "    <div id=\"selector\"></div>\n",
    "\n",
    "    <p style='margin-left:10%;margin-right:10%;text-align:left;font-size:16px;'>\n",
    "    Yesterday, (Friday, Feb 25, 2022) the City of Portland issued permits for 13.6K new square footage of development.\n",
    "    That's 324.1% of the average for a Friday for the past 365 days.\n",
    "    (Over the past year, the City has averaged 31.6K permits per day and 44.1K permits per Friday\n",
    "    There were 27 permits with square footage, a mean of 487, a median of 0.\n",
    "    The greatest amount of square footage was 3,594, the smallest amount of square footage came from 0\n",
    "        <br><br>\n",
    "        The table below describes the permits issued yesterday\n",
    "    </p>\n",
    "\n",
    "    <div style='margin-left:10%;margin-right:10%;text-align:left;font-size:14px;' id=\"yesterday_permits\"></div>\n",
    "\n",
    "    <p style='margin-left:10%;margin-bottom:50px;margin-top:75px;margin-right:10%;text-align:left;font-size:16px;'>\n",
    "        Building permits vary by the type of structure, its function, and the type\n",
    "        of construction. The stacked area chart below shows a rolling 365-day average\n",
    "        of permits by type and date if issue.\n",
    "    </p>\n",
    "\n",
    "    <div style='margin-left:10%;margin-right:10%;text-align:left;font-size:14px;' id=\"permits-stacked-by-type-viewof-selector\"></div>\n",
    "    <div style='margin-left:10%;margin-right:10%;text-align:left;font-size:14px;' id=\"permits-stacked-by-type-key\"></div>\n",
    "    <div style='margin-left:10%;margin-right:10%;text-align:left;font-size:14px;' id=\"permits-stacked-by-type-chart\"></div>\n",
    "    <div style='margin-top:20%'></div>\n",
    "\n",
    "\n",
    "    <script type='module' src='scripts/permits_report/yesterday_permits_table.js'></script>\n",
    "    <script type='module' src='scripts/permits_report/permits_timeseries.js'></script>\n",
    "    <script type='module' src='scripts/permits_report/permits_stacked_by_type.js'></script>\n",
    "\n",
    "<html>'''"
   ]
  },
  {
   "cell_type": "code",
   "execution_count": 11,
   "metadata": {},
   "outputs": [],
   "source": [
    "# file_write = open(\"portland_permits.html\", \"wt\")\n",
    "# n = file_write.write(new_html)\n",
    "# file_write.close()"
   ]
  }
 ],
 "metadata": {
  "kernelspec": {
   "display_name": "Python 3",
   "language": "python",
   "name": "python3"
  },
  "language_info": {
   "codemirror_mode": {
    "name": "ipython",
    "version": 3
   },
   "file_extension": ".py",
   "mimetype": "text/x-python",
   "name": "python",
   "nbconvert_exporter": "python",
   "pygments_lexer": "ipython3",
   "version": "3.8.2"
  }
 },
 "nbformat": 4,
 "nbformat_minor": 4
}
